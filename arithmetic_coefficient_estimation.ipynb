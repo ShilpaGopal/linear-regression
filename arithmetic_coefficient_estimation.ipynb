{
 "cells": [
  {
   "cell_type": "code",
   "execution_count": 104,
   "metadata": {},
   "outputs": [],
   "source": [
    "import pandas as pd\n",
    "import matplotlib.pyplot as plt\n",
    "import matplotlib.patches as mpatches\n",
    "import numpy as np\n",
    "from sklearn.model_selection import train_test_split\n",
    "plt.style.use(\"seaborn-whitegrid\")"
   ]
  },
  {
   "cell_type": "code",
   "execution_count": 6,
   "metadata": {},
   "outputs": [
    {
     "data": {
      "text/html": [
       "<div>\n",
       "<style scoped>\n",
       "    .dataframe tbody tr th:only-of-type {\n",
       "        vertical-align: middle;\n",
       "    }\n",
       "\n",
       "    .dataframe tbody tr th {\n",
       "        vertical-align: top;\n",
       "    }\n",
       "\n",
       "    .dataframe thead th {\n",
       "        text-align: right;\n",
       "    }\n",
       "</style>\n",
       "<table border=\"1\" class=\"dataframe\">\n",
       "  <thead>\n",
       "    <tr style=\"text-align: right;\">\n",
       "      <th></th>\n",
       "      <th>X</th>\n",
       "      <th>Y</th>\n",
       "    </tr>\n",
       "  </thead>\n",
       "  <tbody>\n",
       "    <tr>\n",
       "      <th>0</th>\n",
       "      <td>108</td>\n",
       "      <td>392.5</td>\n",
       "    </tr>\n",
       "    <tr>\n",
       "      <th>1</th>\n",
       "      <td>19</td>\n",
       "      <td>46.2</td>\n",
       "    </tr>\n",
       "    <tr>\n",
       "      <th>2</th>\n",
       "      <td>13</td>\n",
       "      <td>15.7</td>\n",
       "    </tr>\n",
       "    <tr>\n",
       "      <th>3</th>\n",
       "      <td>124</td>\n",
       "      <td>422.2</td>\n",
       "    </tr>\n",
       "    <tr>\n",
       "      <th>4</th>\n",
       "      <td>40</td>\n",
       "      <td>119.4</td>\n",
       "    </tr>\n",
       "  </tbody>\n",
       "</table>\n",
       "</div>"
      ],
      "text/plain": [
       "     X      Y\n",
       "0  108  392.5\n",
       "1   19   46.2\n",
       "2   13   15.7\n",
       "3  124  422.2\n",
       "4   40  119.4"
      ]
     },
     "execution_count": 6,
     "metadata": {},
     "output_type": "execute_result"
    }
   ],
   "source": [
    "# The dataset insurance involves predicting the total payment(Y) for all the claims \n",
    "# given the total number of claims (X).\n",
    "# Linear regression y = b0 + b1 * x to predict the total payment\n",
    "\n",
    "df = pd.read_csv(\"./data/insurance.csv\")\n",
    "df.head()"
   ]
  },
  {
   "cell_type": "code",
   "execution_count": 45,
   "metadata": {},
   "outputs": [
    {
     "data": {
      "text/plain": [
       "Text(0,0.5,'Total payment')"
      ]
     },
     "execution_count": 45,
     "metadata": {},
     "output_type": "execute_result"
    },
    {
     "data": {
      "image/png": "[encoded data removed]",
      "text/plain": [
       "<Figure size 432x288 with 1 Axes>"
      ]
     },
     "metadata": {},
     "output_type": "display_data"
    }
   ],
   "source": [
    "plt.plot(df.X, df.Y, 'o', color='black')\n",
    "plt.xlabel('No of claims')\n",
    "plt.ylabel('Total payment')"
   ]
  },
  {
   "cell_type": "code",
   "execution_count": 80,
   "metadata": {},
   "outputs": [
    {
     "data": {
      "text/plain": [
       "36    61\n",
       "11    48\n",
       "24    29\n",
       "43    37\n",
       "34    22\n",
       "Name: X, dtype: int64"
      ]
     },
     "execution_count": 80,
     "metadata": {},
     "output_type": "execute_result"
    }
   ],
   "source": [
    "# split the data into training and test set\n",
    "\n",
    "train_x,test_x,train_y,test_y = train_test_split(df.X,df.Y,test_size=0.2)\n"
   ]
  },
  {
   "cell_type": "code",
   "execution_count": 73,
   "metadata": {},
   "outputs": [
    {
     "name": "stdout",
     "output_type": "stream",
     "text": [
      "x stats: mean=23.580 variance=29876.180\n",
      "y stats: mean=102.296 variance=432694.819\n"
     ]
    }
   ],
   "source": [
    "# Calculate the mean value of a list of numbers\n",
    "\n",
    "def mean(values):\n",
    "    return np.sum(values) / len(values)\n",
    "\n",
    "# Calculate the variance of a list of numbers\n",
    "\n",
    "def variance(values, mean):\n",
    "    var = 0\n",
    "    for x in values:\n",
    "        var += (x - mean)**2\n",
    "    return var\n",
    "\n",
    "mean_x, mean_y = mean(train_x), mean(train_y)\n",
    "var_x, var_y = variance(train_x, mean_x), variance(train_y, mean_y)\n",
    "\n",
    "print('x stats: mean=%.3f variance=%.3f' % (mean_x, var_x))\n",
    "print('y stats: mean=%.3f variance=%.3f' % (mean_y, var_y))"
   ]
  },
  {
   "cell_type": "code",
   "execution_count": 83,
   "metadata": {},
   "outputs": [
    {
     "name": "stdout",
     "output_type": "stream",
     "text": [
      "Covariance: 50096.918\n"
     ]
    }
   ],
   "source": [
    "# Calculate covariance\n",
    "# The covariance of two groups of numbers describes how those numbers change together\n",
    "\n",
    "def covariance(x, x_mean, y, y_mean):\n",
    "    covar=0.0\n",
    "    for i,j in zip(x,y):\n",
    "        covar += (i - x_mean) * (j - y_mean)\n",
    "    return covar\n",
    "\n",
    "covar = covariance(train_x, mean_x, train_y, mean_y)\n",
    "print('Covariance: %.3f' % (covar))"
   ]
  },
  {
   "cell_type": "code",
   "execution_count": 95,
   "metadata": {},
   "outputs": [
    {
     "name": "stdout",
     "output_type": "stream",
     "text": [
      "Coefficients: B0=17.900, B1=3.461\n"
     ]
    }
   ],
   "source": [
    "# Calculate regression co-efficients\n",
    "# B1 = sum((x(i) - mean(x)) * (y(i) - mean(y))) / sum( (x(i) - mean(x))^2 )\n",
    "# B1 = covariance(x,y)/variance(x)\n",
    "# B0 = mean(y) - B1 * mean(x)\n",
    "\n",
    "def estimate_coefficients(x,y):\n",
    "    x_mean, y_mean = mean(x), mean(y)\n",
    "    b1 = covariance(x, x_mean, y, y_mean)/ variance(x, x_mean)\n",
    "    b0 = y_mean - b1 * x_mean\n",
    "    return[b0,b1]\n",
    "\n",
    "b0, b1 = estimate_coefficients(train_x, train_y)\n",
    "print('Coefficients: B0=%.3f, B1=%.3f' % (b0, b1))\n"
   ]
  },
  {
   "cell_type": "code",
   "execution_count": 98,
   "metadata": {},
   "outputs": [
    {
     "data": {
      "text/plain": [
       "Text(0.5,1,'Regression line on training set')"
      ]
     },
     "execution_count": 98,
     "metadata": {},
     "output_type": "execute_result"
    },
    {
     "data": {
      "image/png": "[encoded data removed]",
      "text/plain": [
       "<Figure size 432x288 with 1 Axes>"
      ]
     },
     "metadata": {},
     "output_type": "display_data"
    }
   ],
   "source": [
    "plt.plot(x_train, y_train, 'o', color='black')\n",
    "plt.plot(x_train, b0+x_train*b1, 'r')\n",
    "plt.title(\"Regression line on training set\")"
   ]
  },
  {
   "cell_type": "code",
   "execution_count": 99,
   "metadata": {},
   "outputs": [],
   "source": [
    "# Simple linear regression algorithm\n",
    "\n",
    "def linear_regression(x_train, y_train, x_test):\n",
    "    predictions=list()\n",
    "    b0, b1=estimate_coefficients(x_train, y_train)\n",
    "    for row in x_test:\n",
    "        yhat= b0 + b1 * row\n",
    "        predictions.append(yhat)\n",
    "    return predictions\n",
    "\n",
    "predicted = linear_regression(train_x,train_y,test_x)"
   ]
  },
  {
   "cell_type": "code",
   "execution_count": 106,
   "metadata": {
    "scrolled": true
   },
   "outputs": [
    {
     "data": {
      "text/plain": [
       "<matplotlib.legend.Legend at 0x1a2030d208>"
      ]
     },
     "execution_count": 106,
     "metadata": {},
     "output_type": "execute_result"
    },
    {
     "data": {
      "image/png": "[encoded data removed]",
      "text/plain": [
       "<Figure size 432x288 with 1 Axes>"
      ]
     },
     "metadata": {},
     "output_type": "display_data"
    }
   ],
   "source": [
    "plt.plot(x_test, y_test, 'o', color='black')\n",
    "plt.plot(predicted, y_test, 'x', color='red')\n",
    "plt.title(\"Prediction vs Actual\")\n",
    "red_patch = mpatches.Patch(color='red', label='Predicted values')\n",
    "black_patch = mpatches.Patch(color='black', label='Actual values')\n",
    "plt.legend(loc=0,handles=[red_patch, black_patch])"
   ]
  },
  {
   "cell_type": "code",
   "execution_count": 94,
   "metadata": {},
   "outputs": [
    {
     "name": "stdout",
     "output_type": "stream",
     "text": [
      "RMSE: 34.431\n"
     ]
    }
   ],
   "source": [
    "# Calculate root mean squared error\n",
    "\n",
    "def rmse_matric(actual, predicted):\n",
    "    sum_error = 0.0\n",
    "    for i,j in zip(actual,predicted):\n",
    "        prediction_error = j - i\n",
    "        sum_error += (prediction_error ** 2)\n",
    "        mean_error = sum_error / float(len(actual))\n",
    "    return np.sqrt(mean_error)\n",
    "\n",
    "rmse = rmse_matric(test_y, predicted)\n",
    "\n",
    "print('RMSE: %.3f' % (rmse))"
   ]
  }
 ],
 "metadata": {
  "kernelspec": {
   "display_name": "Python 3",
   "language": "python",
   "name": "python3"
  },
  "language_info": {
   "codemirror_mode": {
    "name": "ipython",
    "version": 3
   },
   "file_extension": ".py",
   "mimetype": "text/x-python",
   "name": "python",
   "nbconvert_exporter": "python",
   "pygments_lexer": "ipython3",
   "version": "3.7.0"
  }
 },
 "nbformat": 4,
 "nbformat_minor": 2
}
